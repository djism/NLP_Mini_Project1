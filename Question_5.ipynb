{
  "nbformat": 4,
  "nbformat_minor": 0,
  "metadata": {
    "colab": {
      "provenance": [],
      "gpuType": "V28"
    },
    "kernelspec": {
      "name": "python3",
      "display_name": "Python 3"
    },
    "language_info": {
      "name": "python"
    },
    "accelerator": "TPU"
  },
  "cells": [
    {
      "cell_type": "markdown",
      "source": [
        "5.1 (5 points) For the two window sizes w = 1 and w = 6, compute and print the 10 nearest neighbors\n",
        "for the query word judges. (Hint: using my implementation, the nearest neighbor for both window sizes\n",
        "is judge, followed by justices for w = 1 and appeals with w = 6."
      ],
      "metadata": {
        "id": "JvS40Cmr9BHI"
      }
    },
    {
      "cell_type": "code",
      "source": [
        "from collections import defaultdict\n",
        "import math\n",
        "\n",
        "# function to find indices.\n",
        "def find_indexes(arr, words_set):\n",
        "    return [(i, w) for i, w in enumerate(arr) if w in words_set]\n",
        "\n",
        "# function to find word vectors according to PMI.\n",
        "def find_pmi_vectors(w, V, Vc):\n",
        "    my_dict = defaultdict(int)\n",
        "\n",
        "    with open(\"/wiki-1percent.txt\", \"r\") as file:\n",
        "        for line in file:\n",
        "            words = line.split()\n",
        "            length = len(words)\n",
        "\n",
        "            word_indexes = find_indexes(words, V)\n",
        "\n",
        "            for idx, word in word_indexes:\n",
        "                ind_l = max(0, idx - w)\n",
        "                ind_h = min(length, idx + w + 1)\n",
        "\n",
        "                context_window = words[ind_l:idx] + words[idx + 1:ind_h]\n",
        "\n",
        "                for context_word in context_window:\n",
        "                    if context_word in Vc:\n",
        "                        key = (word, context_word)\n",
        "                        my_dict[key] += 1\n",
        "\n",
        "    total_count_N = sum(my_dict.values())\n",
        "\n",
        "    joint_probabilities = defaultdict(float)\n",
        "    for (word, context_word), count in my_dict.items():\n",
        "        joint_probabilities[(word, context_word)] = count / total_count_N\n",
        "\n",
        "    partial_probability_x = defaultdict(float)\n",
        "    for word in V:\n",
        "        partial_probability_x[word] = sum(joint_probabilities[(word, context_word)] for context_word in Vc)\n",
        "\n",
        "    partial_probability_y = defaultdict(float)\n",
        "    for context_word in Vc:\n",
        "        partial_probability_y[context_word] = sum(joint_probabilities[(word, context_word)] for word in V)\n",
        "\n",
        "    pointwise_mutual_information = defaultdict(float)\n",
        "    for (word, context_word), joint_prob in joint_probabilities.items():\n",
        "        partial_prob_x = partial_probability_x[word]\n",
        "        partial_prob_y = partial_probability_y[context_word]\n",
        "\n",
        "        if joint_prob > 0 and partial_prob_x > 0 and partial_prob_y > 0:\n",
        "            pointwise_mutual_information[(word, context_word)] = math.log2(joint_prob / (partial_prob_x * partial_prob_y))\n",
        "        else:\n",
        "            pointwise_mutual_information[(word, context_word)] = 0\n",
        "\n",
        "    word_vectors = defaultdict(dict)\n",
        "    for (word, context_word), pmi_value in pointwise_mutual_information.items():\n",
        "        word_vectors[word][context_word] = pmi_value\n",
        "\n",
        "    return word_vectors"
      ],
      "metadata": {
        "id": "Nofc7jTc5715"
      },
      "execution_count": null,
      "outputs": []
    },
    {
      "cell_type": "code",
      "source": [
        "from collections import defaultdict\n",
        "import math\n",
        "\n",
        "# function to calculate cosine similarity.\n",
        "def cosine_similarity(vec1, vec2):\n",
        "\n",
        "    dot_product = sum(vec1[word] * vec2[word] for word in vec1 if word in vec2)\n",
        "    norm_vec1 = math.sqrt(sum(value ** 2 for value in vec1.values()))\n",
        "    norm_vec2 = math.sqrt(sum(value ** 2 for value in vec2.values()))\n",
        "\n",
        "    if norm_vec1 == 0 or norm_vec2 == 0:\n",
        "        return 0.0\n",
        "\n",
        "    return dot_product / (norm_vec1 * norm_vec2)"
      ],
      "metadata": {
        "id": "DryMNMQmlq2Q"
      },
      "execution_count": null,
      "outputs": []
    },
    {
      "cell_type": "code",
      "source": [
        "from collections import defaultdict\n",
        "import math\n",
        "\n",
        "# function to compute nearest neighbours.\n",
        "def compute_nearest_neighbors(query_word, word_vectors, k):\n",
        "\n",
        "    cosine_similarities = {}\n",
        "\n",
        "    query_vec = word_vectors.get(query_word, {})\n",
        "\n",
        "    for word, vec in word_vectors.items():\n",
        "        if word != query_word:\n",
        "            similarity = cosine_similarity(query_vec, vec)\n",
        "            cosine_similarities[word] = similarity\n",
        "\n",
        "    nearest_neighbors = sorted(cosine_similarities.items(), key=lambda x: x[1], reverse=True)\n",
        "\n",
        "    return nearest_neighbors[:k]"
      ],
      "metadata": {
        "id": "PZ6TplVzlzNx"
      },
      "execution_count": null,
      "outputs": []
    },
    {
      "cell_type": "code",
      "source": [
        "with open(\"/vocab-15kws.txt\") as f:\n",
        "    vocab = f.read().split()\n",
        "\n",
        "V = set(vocab)\n",
        "\n",
        "word_vectors_w_1 = find_pmi_vectors(1, V, V)\n",
        "word_vectors_w_6 = find_pmi_vectors(6, V, V)"
      ],
      "metadata": {
        "id": "VQJVYHYPl6Mt"
      },
      "execution_count": null,
      "outputs": []
    },
    {
      "cell_type": "code",
      "source": [
        "# Getting nearest words for \"judges\".\n",
        "\n",
        "query_word = \"judges\"\n",
        "k = 10\n",
        "\n",
        "compute_nearest_neighbours_w_1 = compute_nearest_neighbors(query_word, word_vectors_w_1, k)\n",
        "compute_nearest_neighbours_w_6 = compute_nearest_neighbors(query_word, word_vectors_w_6, k)\n",
        "\n",
        "\n",
        "print(f\"Top {k} nearest neighbors of '{query_word}' for context window size, w=1:\")\n",
        "for neighbor, similarity in compute_nearest_neighbours_w_1:\n",
        "    print(f\"{neighbor}: {similarity}\")\n",
        "\n",
        "print(f\"\\nTop {k} nearest neighbors of '{query_word}' for context window size, w=6:\")\n",
        "for neighbor, similarity in compute_nearest_neighbours_w_6:\n",
        "    print(f\"{neighbor}: {similarity}\")"
      ],
      "metadata": {
        "colab": {
          "base_uri": "https://localhost:8080/",
          "height": 0
        },
        "id": "qicAB1F66HSd",
        "outputId": "d5300be7-1401-4b2f-d94d-212175ee34d3"
      },
      "execution_count": 19,
      "outputs": [
        {
          "output_type": "stream",
          "name": "stdout",
          "text": [
            "Top 10 nearest neighbors of 'judges' for context window size, w=1:\n",
            "judge: 0.16088226399323038\n",
            "justices: 0.1467875404129078\n",
            "arbitrators: 0.1372853856778382\n",
            "players: 0.13245878587124824\n",
            "trustees: 0.1296389481621695\n",
            "contestants: 0.12422541827146273\n",
            "officials: 0.122980017022042\n",
            "admins: 0.12048565742468138\n",
            "appeals: 0.11843728431064904\n",
            "officers: 0.11500945538099515\n",
            "\n",
            "Top 10 nearest neighbors of 'judges' for context window size, w=6:\n",
            "judge: 0.20254689232437778\n",
            "appeals: 0.17741896149361888\n",
            "supreme: 0.17659363749735713\n",
            "court: 0.17199535193610332\n",
            "panel: 0.1692578757257143\n",
            "courts: 0.1666058030872867\n",
            "jury: 0.16522403791185392\n",
            "contestants: 0.16440586358293743\n",
            "justice: 0.16387218457646027\n",
            "officials: 0.16358549055953606\n"
          ]
        }
      ]
    },
    {
      "cell_type": "markdown",
      "source": [
        "5.2 (10 points) Do nearest neighbors tend to have the same part-of-speech tag as the query word, or\n",
        "do they differ? Does the pattern differ across different part-of-speech tags for the query word? How\n",
        "does window size affect this? Explore these questions by choosing query words with different parts of\n",
        "speech and computing their nearest neighbors. When choosing query words, consider nouns, verbs,\n",
        "adjectives, and prepositions. (Hint: when considering verbs, use inflected forms like transported.) Try a\n",
        "few query words from each part of speech category and see if you can find any systematic patterns when\n",
        "comparing their nearest neighbors across window sizes 1 and 6. When the neighbors differ between\n",
        "window sizes, how do they differ? Can you find any query words that have almost exactly the same\n",
        "nearest neighbors with the two window sizes? Discuss your findings, showing examples of nearest\n",
        "neighbors for particular words to support your claims."
      ],
      "metadata": {
        "id": "zNmzhkXPnF5M"
      }
    },
    {
      "cell_type": "code",
      "source": [
        "# Getting nearest words for \"music\".\n",
        "\n",
        "query_word_noun = \"music\"\n",
        "k = 10\n",
        "\n",
        "compute_nearest_neighbours_w_1 = compute_nearest_neighbors(query_word_noun, word_vectors_w_1, k)\n",
        "compute_nearest_neighbours_w_6 = compute_nearest_neighbors(query_word_noun, word_vectors_w_6, k)\n",
        "\n",
        "\n",
        "print(f\"Top {k} nearest neighbors of '{query_word_noun}' for context window size, w=1:\")\n",
        "for neighbor, similarity in compute_nearest_neighbours_w_1:\n",
        "    print(f\"{neighbor}: {similarity}\")\n",
        "\n",
        "print(f\"\\nTop {k} nearest neighbors of '{query_word_noun}' for context window size, w=6:\")\n",
        "for neighbor, similarity in compute_nearest_neighbours_w_6:\n",
        "    print(f\"{neighbor}: {similarity}\")"
      ],
      "metadata": {
        "colab": {
          "base_uri": "https://localhost:8080/",
          "height": 0
        },
        "id": "BlNTFUqrmMQA",
        "outputId": "6f801b46-d6eb-419d-bba1-91409fe916dd"
      },
      "execution_count": 2,
      "outputs": [
        {
          "output_type": "stream",
          "name": "stdout",
          "text": [
            "Top 10 nearest neighbors of 'music' for context window size, w=1:\n",
            "jazz: 0.2352517854733975\n",
            "art: 0.2334664078970672\n",
            "rock: 0.2230073416074984\n",
            "film: 0.21921528515158653\n",
            "pop: 0.21817914950264566\n",
            "dance: 0.21563474661241294\n",
            "musical: 0.20646070511948098\n",
            "songs: 0.20607242918804228\n",
            "american: 0.2018952655971026\n",
            "albums: 0.19303949397448833\n",
            "\n",
            "Top 10 nearest neighbors of 'music' for context window size, w=6:\n",
            "song: 0.3913761453633238\n",
            "band: 0.3864809051244434\n",
            "album: 0.3726179946942443\n",
            "songs: 0.36906367085357134\n",
            "film: 0.3304670017951474\n",
            "musical: 0.32050066326277765\n",
            "jazz: 0.31513733905960817\n",
            "art: 0.3138467840663773\n",
            "rock: 0.3134863136889128\n",
            "released: 0.30159788367532725\n"
          ]
        }
      ]
    },
    {
      "cell_type": "code",
      "source": [
        "# Getting nearest words for \"house\".\n",
        "\n",
        "query_word_noun = \"house\"\n",
        "k = 10\n",
        "\n",
        "compute_nearest_neighbours_w_1 = compute_nearest_neighbors(query_word_noun, word_vectors_w_1, k)\n",
        "compute_nearest_neighbours_w_6 = compute_nearest_neighbors(query_word_noun, word_vectors_w_6, k)\n",
        "\n",
        "\n",
        "print(f\"Top {k} nearest neighbors of '{query_word_noun}' for context window size, w=1:\")\n",
        "for neighbor, similarity in compute_nearest_neighbours_w_1:\n",
        "    print(f\"{neighbor}: {similarity}\")\n",
        "\n",
        "print(f\"\\nTop {k} nearest neighbors of '{query_word_noun}' for context window size, w=6:\")\n",
        "for neighbor, similarity in compute_nearest_neighbours_w_6:\n",
        "    print(f\"{neighbor}: {similarity}\")"
      ],
      "metadata": {
        "colab": {
          "base_uri": "https://localhost:8080/",
          "height": 0
        },
        "id": "Sj1EyM68mRY9",
        "outputId": "a2920ec8-5ed6-48f1-b79e-c7ca9e55e9e3"
      },
      "execution_count": 3,
      "outputs": [
        {
          "output_type": "stream",
          "name": "stdout",
          "text": [
            "Top 10 nearest neighbors of 'house' for context window size, w=1:\n",
            "houses: 0.19169252155350003\n",
            "county: 0.18194645984787203\n",
            "family: 0.18155222916945907\n",
            "building: 0.17814464655988252\n",
            "'s: 0.1758141726614405\n",
            "city: 0.16935423702804722\n",
            "village: 0.16609334135294757\n",
            "park: 0.16467741939280367\n",
            "state: 0.1632929110612971\n",
            "john: 0.16199130560615968\n",
            "\n",
            "Top 10 nearest neighbors of 'house' for context window size, w=6:\n",
            "building: 0.3332559481112943\n",
            "built: 0.32623197949046445\n",
            "church: 0.31210832770244046\n",
            "john: 0.3061576359227404\n",
            "county: 0.3017372348519806\n",
            "street: 0.3000841495152304\n",
            "home: 0.30003267129055716\n",
            "hall: 0.2963653671315225\n",
            "park: 0.28398347930673074\n",
            "st: 0.28251761960010907\n"
          ]
        }
      ]
    },
    {
      "cell_type": "markdown",
      "source": [
        "For verbs"
      ],
      "metadata": {
        "id": "Pp0tcUpFnW0G"
      }
    },
    {
      "cell_type": "code",
      "source": [
        "# Getting nearest words for \"evaluated\".\n",
        "\n",
        "query_word_verb = \"evaluated\"\n",
        "k = 10\n",
        "\n",
        "compute_nearest_neighbours_w_1 = compute_nearest_neighbors(query_word_verb, word_vectors_w_1, k)\n",
        "compute_nearest_neighbours_w_6 = compute_nearest_neighbors(query_word_verb, word_vectors_w_6, k)\n",
        "\n",
        "\n",
        "print(f\"Top {k} nearest neighbors of '{query_word_verb}' for context window size, w=1:\")\n",
        "for neighbor, similarity in compute_nearest_neighbours_w_1:\n",
        "    print(f\"{neighbor}: {similarity}\")\n",
        "\n",
        "print(f\"\\nTop {k} nearest neighbors of '{query_word_verb}' for context window size, w=6:\")\n",
        "for neighbor, similarity in compute_nearest_neighbours_w_6:\n",
        "    print(f\"{neighbor}: {similarity}\")"
      ],
      "metadata": {
        "colab": {
          "base_uri": "https://localhost:8080/",
          "height": 0
        },
        "id": "R0ZjZlbEmiCO",
        "outputId": "237a4bf6-ddc3-4644-d36f-250253859c4a"
      },
      "execution_count": 4,
      "outputs": [
        {
          "output_type": "stream",
          "name": "stdout",
          "text": [
            "Top 10 nearest neighbors of 'evaluated' for context window size, w=1:\n",
            "dismantled: 0.17821160475608214\n",
            "examined: 0.1628428936681349\n",
            "adjusted: 0.15414619856907355\n",
            "summarize: 0.15385939228557674\n",
            "addressed: 0.15349579392116133\n",
            "detained: 0.14883484070496825\n",
            "ratified: 0.148738302241521\n",
            "discussed: 0.14762722998714475\n",
            "cleaned: 0.1451836231913981\n",
            "handled: 0.1385818278120693\n",
            "\n",
            "Top 10 nearest neighbors of 'evaluated' for context window size, w=6:\n",
            "evaluate: 0.1318963738009448\n",
            "assess: 0.12241652543601635\n",
            "evaluation: 0.11891691842179625\n",
            "analysis: 0.10741406993296336\n",
            "determine: 0.10695917786605068\n",
            "testing: 0.10473747429420437\n",
            "efficiency: 0.10470472556180471\n",
            "algorithm: 0.10441124130208577\n",
            "declining: 0.10418318693728329\n",
            "organisms: 0.10248677558157693\n"
          ]
        }
      ]
    },
    {
      "cell_type": "code",
      "source": [
        "# Getting nearest words for \"designed\".\n",
        "\n",
        "query_word_verb = \"designed\"\n",
        "k = 10\n",
        "\n",
        "compute_nearest_neighbours_w_1 = compute_nearest_neighbors(query_word_verb, word_vectors_w_1, k)\n",
        "compute_nearest_neighbours_w_6 = compute_nearest_neighbors(query_word_verb, word_vectors_w_6, k)\n",
        "\n",
        "\n",
        "print(f\"Top {k} nearest neighbors of '{query_word_verb}' for context window size, w=1:\")\n",
        "for neighbor, similarity in compute_nearest_neighbours_w_1:\n",
        "    print(f\"{neighbor}: {similarity}\")\n",
        "\n",
        "print(f\"\\nTop {k} nearest neighbors of '{query_word_verb}' for context window size, w=6:\")\n",
        "for neighbor, similarity in compute_nearest_neighbours_w_6:\n",
        "    print(f\"{neighbor}: {similarity}\")"
      ],
      "metadata": {
        "colab": {
          "base_uri": "https://localhost:8080/",
          "height": 0
        },
        "id": "Syd3kQVBmlaI",
        "outputId": "bc6c0c85-ad92-4f75-e22f-90dd1b77567d"
      },
      "execution_count": 5,
      "outputs": [
        {
          "output_type": "stream",
          "name": "stdout",
          "text": [
            "Top 10 nearest neighbors of 'designed' for context window size, w=1:\n",
            "built: 0.18788394185675528\n",
            "constructed: 0.16636813821699417\n",
            "developed: 0.1544664683233103\n",
            "used: 0.1458813806421581\n",
            "equipped: 0.14224759585567698\n",
            "design: 0.14202047737725906\n",
            "created: 0.13490603128813852\n",
            "available: 0.12887945297089706\n",
            "written: 0.12781377060348903\n",
            "based: 0.12695649661481284\n",
            "\n",
            "Top 10 nearest neighbors of 'designed' for context window size, w=6:\n",
            "design: 0.34361406795013977\n",
            "built: 0.3064893199659197\n",
            "developed: 0.2924548599947247\n",
            "using: 0.28584927318969616\n",
            "building: 0.27966870535202\n",
            "systems: 0.2762699481861762\n",
            "features: 0.26385085295354144\n",
            "architect: 0.25329009324872653\n",
            "type: 0.24844383611483223\n",
            "large: 0.24699598479847665\n"
          ]
        }
      ]
    },
    {
      "cell_type": "markdown",
      "source": [
        "For adjectives"
      ],
      "metadata": {
        "id": "WhqhI-m1nZzI"
      }
    },
    {
      "cell_type": "code",
      "source": [
        "# Getting nearest words for \"intelligent\".\n",
        "\n",
        "query_word_adjective = \"intelligent\"\n",
        "k = 10\n",
        "\n",
        "compute_nearest_neighbours_w_1 = compute_nearest_neighbors(query_word_adjective, word_vectors_w_1, k)\n",
        "compute_nearest_neighbours_w_6 = compute_nearest_neighbors(query_word_adjective, word_vectors_w_6, k)\n",
        "\n",
        "\n",
        "print(f\"Top {k} nearest neighbors of '{query_word_adjective}' for context window size, w=1:\")\n",
        "for neighbor, similarity in compute_nearest_neighbours_w_1:\n",
        "    print(f\"{neighbor}: {similarity}\")\n",
        "\n",
        "print(f\"\\nTop {k} nearest neighbors of '{query_word_adjective}' for context window size, w=6:\")\n",
        "for neighbor, similarity in compute_nearest_neighbours_w_6:\n",
        "    print(f\"{neighbor}: {similarity}\")"
      ],
      "metadata": {
        "colab": {
          "base_uri": "https://localhost:8080/",
          "height": 0
        },
        "id": "rGhL0lfjmoab",
        "outputId": "8e3194db-d684-4b15-927a-af42a621117e"
      },
      "execution_count": 6,
      "outputs": [
        {
          "output_type": "stream",
          "name": "stdout",
          "text": [
            "Top 10 nearest neighbors of 'intelligent' for context window size, w=1:\n",
            "efficient: 0.12255818536677039\n",
            "aggressive: 0.11500946607794797\n",
            "stable: 0.11458227446771488\n",
            "centralized: 0.11339123578583084\n",
            "rational: 0.1104740891484247\n",
            "productive: 0.10980739079925649\n",
            "impressive: 0.10857972767172237\n",
            "informative: 0.10831067869673684\n",
            "competent: 0.107125667705836\n",
            "interesting: 0.10303052095003111\n",
            "\n",
            "Top 10 nearest neighbors of 'intelligent' for context window size, w=6:\n",
            "understanding: 0.13224091645521857\n",
            "learning: 0.13182341586222687\n",
            "processes: 0.13048663315787143\n",
            "interesting: 0.1300055877042562\n",
            "technologies: 0.12901707401933601\n",
            "approach: 0.1285031411499165\n",
            "meaningful: 0.1282513828900368\n",
            "humans: 0.12824605221358182\n",
            "simple: 0.1277690463350835\n",
            "highly: 0.12607671626680444\n"
          ]
        }
      ]
    },
    {
      "cell_type": "code",
      "source": [
        "# Getting nearest words for \"beautiful\".\n",
        "\n",
        "query_word_adjective = \"beautiful\"\n",
        "k = 10\n",
        "\n",
        "compute_nearest_neighbours_w_1 = compute_nearest_neighbors(query_word_adjective, word_vectors_w_1, k)\n",
        "compute_nearest_neighbours_w_6 = compute_nearest_neighbors(query_word_adjective, word_vectors_w_6, k)\n",
        "\n",
        "\n",
        "print(f\"Top {k} nearest neighbors of '{query_word_adjective}' for context window size, w=1:\")\n",
        "for neighbor, similarity in compute_nearest_neighbours_w_1:\n",
        "    print(f\"{neighbor}: {similarity}\")\n",
        "\n",
        "print(f\"\\nTop {k} nearest neighbors of '{query_word_adjective}' for context window size, w=6:\")\n",
        "for neighbor, similarity in compute_nearest_neighbours_w_6:\n",
        "    print(f\"{neighbor}: {similarity}\")"
      ],
      "metadata": {
        "colab": {
          "base_uri": "https://localhost:8080/",
          "height": 0
        },
        "id": "NU7NLbhymrez",
        "outputId": "e34aa3ba-a167-49b0-d906-32879df6a9cf"
      },
      "execution_count": 7,
      "outputs": [
        {
          "output_type": "stream",
          "name": "stdout",
          "text": [
            "Top 10 nearest neighbors of 'beautiful' for context window size, w=1:\n",
            "attractive: 0.12187995430596532\n",
            "scenic: 0.11814294372346498\n",
            "dark: 0.10867641614627511\n",
            "amazing: 0.10198041344311475\n",
            "whose: 0.10153389585546795\n",
            "magnificent: 0.10118077298702935\n",
            "quiet: 0.10044579875566965\n",
            "picturesque: 0.10006369755970596\n",
            "strange: 0.0988855561424134\n",
            "surrounding: 0.09863158705401244\n",
            "\n",
            "Top 10 nearest neighbors of 'beautiful' for context window size, w=6:\n",
            "love: 0.17828259432224108\n",
            "girl: 0.16456668491465223\n",
            "woman: 0.16336597526875327\n",
            "beauty: 0.16134986779111796\n",
            "herself: 0.15709246367225754\n",
            "and: 0.15602031037179126\n",
            "lady: 0.1557563137081618\n",
            "dark: 0.155520700224912\n",
            "man: 0.1552607898459518\n",
            "features: 0.15389114110173086\n"
          ]
        }
      ]
    },
    {
      "cell_type": "markdown",
      "source": [
        "For preposition"
      ],
      "metadata": {
        "id": "XRRBCSmgndLW"
      }
    },
    {
      "cell_type": "code",
      "source": [
        "# Getting nearest words for \"through\".\n",
        "\n",
        "query_word_preposition = \"through\"\n",
        "k = 10\n",
        "\n",
        "compute_nearest_neighbours_w_1 = compute_nearest_neighbors(query_word_preposition, word_vectors_w_1, k)\n",
        "compute_nearest_neighbours_w_6 = compute_nearest_neighbors(query_word_preposition, word_vectors_w_6, k)\n",
        "\n",
        "\n",
        "print(f\"Top {k} nearest neighbors of '{query_word_preposition}' for context window size, w=1:\")\n",
        "for neighbor, similarity in compute_nearest_neighbours_w_1:\n",
        "    print(f\"{neighbor}: {similarity}\")\n",
        "\n",
        "print(f\"\\nTop {k} nearest neighbors of '{query_word_preposition}' for context window size, w=6:\")\n",
        "for neighbor, similarity in compute_nearest_neighbours_w_6:\n",
        "    print(f\"{neighbor}: {similarity}\")"
      ],
      "metadata": {
        "colab": {
          "base_uri": "https://localhost:8080/",
          "height": 0
        },
        "id": "O6dx15fqmyoh",
        "outputId": "7ada56de-59d6-4526-e137-1ad025f63c10"
      },
      "execution_count": 8,
      "outputs": [
        {
          "output_type": "stream",
          "name": "stdout",
          "text": [
            "Top 10 nearest neighbors of 'through' for context window size, w=1:\n",
            "into: 0.30558390241433514\n",
            "between: 0.2528322864478591\n",
            "and: 0.24382873770808097\n",
            "from: 0.24380185547652541\n",
            "across: 0.23139582983376777\n",
            "along: 0.22646735149432243\n",
            "over: 0.21889625779873495\n",
            "during: 0.21627907240000313\n",
            "down: 0.21056292557715736\n",
            "out: 0.20786233466746318\n",
            "\n",
            "Top 10 nearest neighbors of 'through' for context window size, w=6:\n",
            "into: 0.2973615239226622\n",
            "via: 0.28087829032815664\n",
            "along: 0.26499868283682904\n",
            "across: 0.26187526679794154\n",
            "system: 0.2614267433341713\n",
            "around: 0.25498805635218624\n",
            "using: 0.2508040658468931\n",
            "between: 0.24481792741647884\n",
            "large: 0.24091708442353477\n",
            "water: 0.23945862400388493\n"
          ]
        }
      ]
    },
    {
      "cell_type": "code",
      "source": [
        "# Getting nearest words for \"near\".\n",
        "\n",
        "query_word_preposition = \"near\"\n",
        "k = 10\n",
        "\n",
        "compute_nearest_neighbours_w_1 = compute_nearest_neighbors(query_word_preposition, word_vectors_w_1, k)\n",
        "compute_nearest_neighbours_w_6 = compute_nearest_neighbors(query_word_preposition, word_vectors_w_6, k)\n",
        "\n",
        "\n",
        "print(f\"Top {k} nearest neighbors of '{query_word_preposition}' for context window size, w=1:\")\n",
        "for neighbor, similarity in compute_nearest_neighbours_w_1:\n",
        "    print(f\"{neighbor}: {similarity}\")\n",
        "\n",
        "print(f\"\\nTop {k} nearest neighbors of '{query_word_preposition}' for context window size, w=6:\")\n",
        "for neighbor, similarity in compute_nearest_neighbours_w_6:\n",
        "    print(f\"{neighbor}: {similarity}\")"
      ],
      "metadata": {
        "colab": {
          "base_uri": "https://localhost:8080/",
          "height": 0
        },
        "id": "YrhBsANHmz1T",
        "outputId": "f4c396a5-710f-4e2c-b07c-b7aec59d16b8"
      },
      "execution_count": 9,
      "outputs": [
        {
          "output_type": "stream",
          "name": "stdout",
          "text": [
            "Top 10 nearest neighbors of 'near' for context window size, w=1:\n",
            "nearby: 0.23907992982421833\n",
            "at: 0.21760115043250708\n",
            "along: 0.21305370209656413\n",
            "road: 0.20041885163836667\n",
            "between: 0.19908711274640256\n",
            "east: 0.1982496004179597\n",
            "west: 0.19231320984546144\n",
            "around: 0.1910503437204058\n",
            "downtown: 0.18737247280240515\n",
            "north: 0.18527529025979936\n",
            "\n",
            "Top 10 nearest neighbors of 'near' for context window size, w=6:\n",
            "located: 0.45370454292922346\n",
            "north: 0.4386368009409462\n",
            "river: 0.43757792416631197\n",
            "east: 0.42686101820991784\n",
            "west: 0.4259288572913421\n",
            "road: 0.4080553640307897\n",
            "south: 0.3987859059831599\n",
            "park: 0.3914330106161848\n",
            "town: 0.38400666633871566\n",
            "lake: 0.3780965523208657\n"
          ]
        }
      ]
    },
    {
      "cell_type": "markdown",
      "source": [
        "5.3 (10 points) Now try choosing words with multiple senses (e.g., bank, cell, apple, apples, axes, frame, light,\n",
        "well, etc.) as query words. What appears to be happening with multisense words based on the nearest\n",
        "neighbors that you observe? What happens when you compare the neighbors with different window sizes (w = 1 vs. w = 6)? Discuss your findings, showing examples of nearest neighbors for particular\n",
        "words to support your claims.\n",
        "\n",
        "For multisense words:\n",
        "1) Bank"
      ],
      "metadata": {
        "id": "mGkFAk0onjAJ"
      }
    },
    {
      "cell_type": "code",
      "source": [
        "# Getting nearest words for \"bank\".\n",
        "\n",
        "query_word_multisense = \"bank\"\n",
        "k = 10\n",
        "\n",
        "compute_nearest_neighbours_w_1 = compute_nearest_neighbors(query_word_multisense, word_vectors_w_1, k)\n",
        "compute_nearest_neighbours_w_6 = compute_nearest_neighbors(query_word_multisense, word_vectors_w_6, k)\n",
        "\n",
        "\n",
        "print(f\"Top {k} nearest neighbors of '{query_word_multisense}' for context window size, w=1:\")\n",
        "for neighbor, similarity in compute_nearest_neighbours_w_1:\n",
        "    print(f\"{neighbor}: {similarity}\")\n",
        "\n",
        "print(f\"\\nTop {k} nearest neighbors of '{query_word_multisense}' for context window size, w=6:\")\n",
        "for neighbor, similarity in compute_nearest_neighbours_w_6:\n",
        "    print(f\"{neighbor}: {similarity}\")"
      ],
      "metadata": {
        "colab": {
          "base_uri": "https://localhost:8080/",
          "height": 0
        },
        "id": "sbW-XgHmnr-w",
        "outputId": "c468b86e-a9fd-4949-fc18-c003b37bcaa6"
      },
      "execution_count": 10,
      "outputs": [
        {
          "output_type": "stream",
          "name": "stdout",
          "text": [
            "Top 10 nearest neighbors of 'bank' for context window size, w=1:\n",
            "banks: 0.1827920565332767\n",
            "company: 0.14277384047080313\n",
            "insurance: 0.13049722349957968\n",
            "corporation: 0.12775249391520085\n",
            "railway: 0.12268850302979989\n",
            "government: 0.12231567199691568\n",
            "banking: 0.11728458034171654\n",
            "companies: 0.11206946596531087\n",
            "institute: 0.11144760694487782\n",
            "conference: 0.11055429400995383\n",
            "\n",
            "Top 10 nearest neighbors of 'bank' for context window size, w=6:\n",
            "corporation: 0.26188916237681353\n",
            "banks: 0.24753450386934825\n",
            "company: 0.24304049154327279\n",
            "railway: 0.239596873105255\n",
            "river: 0.2395293436868915\n",
            "capital: 0.23562226231919461\n",
            "west: 0.23489102983532872\n",
            "central: 0.229471745987817\n",
            "east: 0.22842509905896707\n",
            "northern: 0.22354435952419194\n"
          ]
        }
      ]
    },
    {
      "cell_type": "markdown",
      "source": [
        "2) Cell"
      ],
      "metadata": {
        "id": "QaN3TxqHpEx7"
      }
    },
    {
      "cell_type": "code",
      "source": [
        "# Getting nearest words for \"cell\".\n",
        "\n",
        "query_word_multisense = \"cell\"\n",
        "k = 10\n",
        "\n",
        "compute_nearest_neighbours_w_1 = compute_nearest_neighbors(query_word_multisense, word_vectors_w_1, k)\n",
        "compute_nearest_neighbours_w_6 = compute_nearest_neighbors(query_word_multisense, word_vectors_w_6, k)\n",
        "\n",
        "\n",
        "print(f\"Top {k} nearest neighbors of '{query_word_multisense}' for context window size, w=1:\")\n",
        "for neighbor, similarity in compute_nearest_neighbours_w_1:\n",
        "    print(f\"{neighbor}: {similarity}\")\n",
        "\n",
        "print(f\"\\nTop {k} nearest neighbors of '{query_word_multisense}' for context window size, w=6:\")\n",
        "for neighbor, similarity in compute_nearest_neighbours_w_6:\n",
        "    print(f\"{neighbor}: {similarity}\")"
      ],
      "metadata": {
        "colab": {
          "base_uri": "https://localhost:8080/",
          "height": 0
        },
        "id": "ThbFSKpVoUh4",
        "outputId": "e72585e8-c3dc-46a3-b783-c7e647609e43"
      },
      "execution_count": 11,
      "outputs": [
        {
          "output_type": "stream",
          "name": "stdout",
          "text": [
            "Top 10 nearest neighbors of 'cell' for context window size, w=1:\n",
            "cells: 0.27825498024044576\n",
            "cellular: 0.1957797465237583\n",
            "protein: 0.1550193052150567\n",
            "tissue: 0.15453916660414296\n",
            "brain: 0.12431467038168423\n",
            "proteins: 0.12312275889052125\n",
            "tissues: 0.1221508188624583\n",
            "growth: 0.11580589956377435\n",
            "human: 0.11084034222648313\n",
            "enzyme: 0.11070403124912466\n",
            "\n",
            "Top 10 nearest neighbors of 'cell' for context window size, w=6:\n",
            "cells: 0.4206664569903037\n",
            "protein: 0.29795036670888736\n",
            "membrane: 0.2817386492157226\n",
            "proteins: 0.2790529621329552\n",
            "cellular: 0.2689622324027641\n",
            "dna: 0.2615435593904246\n",
            "genes: 0.24887530746018052\n",
            "function: 0.24692677216205736\n",
            "tissue: 0.24488699217431567\n",
            "brain: 0.24285347536380011\n"
          ]
        }
      ]
    },
    {
      "cell_type": "markdown",
      "source": [
        "3) Apple"
      ],
      "metadata": {
        "id": "gZBQWVm6pHZg"
      }
    },
    {
      "cell_type": "code",
      "source": [
        "# Getting nearest words for \"apple\".\n",
        "\n",
        "query_word_multisense = \"apple\"\n",
        "k = 10\n",
        "\n",
        "compute_nearest_neighbours_w_1 = compute_nearest_neighbors(query_word_multisense, word_vectors_w_1, k)\n",
        "compute_nearest_neighbours_w_6 = compute_nearest_neighbors(query_word_multisense, word_vectors_w_6, k)\n",
        "\n",
        "\n",
        "print(f\"Top {k} nearest neighbors of '{query_word_multisense}' for context window size, w=1:\")\n",
        "for neighbor, similarity in compute_nearest_neighbours_w_1:\n",
        "    print(f\"{neighbor}: {similarity}\")\n",
        "\n",
        "print(f\"\\nTop {k} nearest neighbors of '{query_word_multisense}' for context window size, w=6:\")\n",
        "for neighbor, similarity in compute_nearest_neighbours_w_6:\n",
        "    print(f\"{neighbor}: {similarity}\")"
      ],
      "metadata": {
        "colab": {
          "base_uri": "https://localhost:8080/",
          "height": 0
        },
        "id": "lI0r0BVeoW2e",
        "outputId": "554851ea-8634-4d65-d684-8668af463446"
      },
      "execution_count": 12,
      "outputs": [
        {
          "output_type": "stream",
          "name": "stdout",
          "text": [
            "Top 10 nearest neighbors of 'apple' for context window size, w=1:\n",
            "cherry: 0.14418837734849888\n",
            "chili: 0.1315822689286924\n",
            "desktop: 0.11426697226625163\n",
            "olive: 0.10479365296990972\n",
            "tulip: 0.10406617695978118\n",
            "orange: 0.10384858188444925\n",
            "palm: 0.09503250570017008\n",
            "pine: 0.09494292849310292\n",
            "atari: 0.0932794409245937\n",
            "wines: 0.0924749129833824\n",
            "\n",
            "Top 10 nearest neighbors of 'apple' for context window size, w=6:\n",
            "os: 0.22349178687178287\n",
            "microsoft: 0.21797351180423696\n",
            "macintosh: 0.20376424225413126\n",
            "mac: 0.2006762960575836\n",
            "ios: 0.19998904264791953\n",
            "software: 0.19983747510228544\n",
            "desktop: 0.19650194384710695\n",
            "computers: 0.1854881332651712\n",
            "linux: 0.180520163889551\n",
            "iphone: 0.17578379750759945\n"
          ]
        }
      ]
    },
    {
      "cell_type": "markdown",
      "source": [
        "4) Apples"
      ],
      "metadata": {
        "id": "MnrgDdxCpKIS"
      }
    },
    {
      "cell_type": "code",
      "source": [
        "# Getting nearest words for \"apples\".\n",
        "\n",
        "query_word_multisense = \"apples\"\n",
        "k = 10\n",
        "\n",
        "compute_nearest_neighbours_w_1 = compute_nearest_neighbors(query_word_multisense, word_vectors_w_1, k)\n",
        "compute_nearest_neighbours_w_6 = compute_nearest_neighbors(query_word_multisense, word_vectors_w_6, k)\n",
        "\n",
        "\n",
        "print(f\"Top {k} nearest neighbors of '{query_word_multisense}' for context window size, w=1:\")\n",
        "for neighbor, similarity in compute_nearest_neighbours_w_1:\n",
        "    print(f\"{neighbor}: {similarity}\")\n",
        "\n",
        "print(f\"\\nTop {k} nearest neighbors of '{query_word_multisense}' for context window size, w=6:\")\n",
        "for neighbor, similarity in compute_nearest_neighbours_w_6:\n",
        "    print(f\"{neighbor}: {similarity}\")"
      ],
      "metadata": {
        "colab": {
          "base_uri": "https://localhost:8080/",
          "height": 0
        },
        "id": "wiP8AJd5oXx3",
        "outputId": "70eb5cec-c00b-4931-edc3-f021c15a2df1"
      },
      "execution_count": 13,
      "outputs": [
        {
          "output_type": "stream",
          "name": "stdout",
          "text": [
            "Top 10 nearest neighbors of 'apples' for context window size, w=1:\n",
            "brains: 0.17662940363544993\n",
            "impatient: 0.15156549546124998\n",
            "kinds: 0.14219633459071232\n",
            "jokes: 0.13784925238645185\n",
            "guys: 0.1222782762120528\n",
            "classmates: 0.12077728948351064\n",
            "vampires: 0.11879178022071352\n",
            "tired: 0.1171744495645414\n",
            "continents: 0.11681321730904437\n",
            "candles: 0.11634458260364082\n",
            "\n",
            "Top 10 nearest neighbors of 'apples' for context window size, w=6:\n",
            "fruits: 0.14159256106482185\n",
            "grapes: 0.14056907325790657\n",
            "vegetables: 0.14045800212516943\n",
            "wheat: 0.13831172659649932\n",
            "carrots: 0.13435873572727194\n",
            "fruit: 0.1322480377038295\n",
            "seeds: 0.131898847837544\n",
            "cooked: 0.1252818733959207\n",
            "crops: 0.12182059005436091\n",
            "maize: 0.11794401345948345\n"
          ]
        }
      ]
    },
    {
      "cell_type": "markdown",
      "source": [
        "5) Axes"
      ],
      "metadata": {
        "id": "GZULtaVkpMi8"
      }
    },
    {
      "cell_type": "code",
      "source": [
        "# Getting nearest words for \"axes\".\n",
        "\n",
        "query_word_multisense = \"axes\"\n",
        "k = 10\n",
        "\n",
        "compute_nearest_neighbours_w_1 = compute_nearest_neighbors(query_word_multisense, word_vectors_w_1, k)\n",
        "compute_nearest_neighbours_w_6 = compute_nearest_neighbors(query_word_multisense, word_vectors_w_6, k)\n",
        "\n",
        "\n",
        "print(f\"Top {k} nearest neighbors of '{query_word_multisense}' for context window size, w=1:\")\n",
        "for neighbor, similarity in compute_nearest_neighbours_w_1:\n",
        "    print(f\"{neighbor}: {similarity}\")\n",
        "\n",
        "print(f\"\\nTop {k} nearest neighbors of '{query_word_multisense}' for context window size, w=6:\")\n",
        "for neighbor, similarity in compute_nearest_neighbours_w_6:\n",
        "    print(f\"{neighbor}: {similarity}\")"
      ],
      "metadata": {
        "colab": {
          "base_uri": "https://localhost:8080/",
          "height": 0
        },
        "id": "G6YkUhoYoYtd",
        "outputId": "5d962e80-5e65-4703-b429-915b50ca2691"
      },
      "execution_count": 14,
      "outputs": [
        {
          "output_type": "stream",
          "name": "stdout",
          "text": [
            "Top 10 nearest neighbors of 'axes' for context window size, w=1:\n",
            "phases: 0.16950622163465687\n",
            "tributaries: 0.13527058064842007\n",
            "qualities: 0.12158070937132485\n",
            "paths: 0.1197506256710099\n",
            "viewpoints: 0.11972740295337372\n",
            "spells: 0.11164791559952146\n",
            "sorts: 0.10865563111839704\n",
            "branches: 0.10859294928483704\n",
            "motifs: 0.1065591977510798\n",
            "frames: 0.10387825055177326\n",
            "\n",
            "Top 10 nearest neighbors of 'axes' for context window size, w=6:\n",
            "angles: 0.12401253204025457\n",
            "flint: 0.11839587778420939\n",
            "neolithic: 0.11317106126229176\n",
            "axe: 0.10833566976408206\n",
            "symmetry: 0.10810610486154082\n",
            "parallel: 0.10784579372980911\n",
            "shapes: 0.10650966487929263\n",
            "puzzle: 0.10222630940545116\n",
            "knives: 0.10187960720045423\n",
            "vectors: 0.0999652304383745\n"
          ]
        }
      ]
    },
    {
      "cell_type": "markdown",
      "source": [
        "6) Frame"
      ],
      "metadata": {
        "id": "P-MZGABfpPhh"
      }
    },
    {
      "cell_type": "code",
      "source": [
        "# Getting nearest words for \"frame\".\n",
        "\n",
        "query_word_multisense = \"frame\"\n",
        "k = 10\n",
        "\n",
        "compute_nearest_neighbours_w_1 = compute_nearest_neighbors(query_word_multisense, word_vectors_w_1, k)\n",
        "compute_nearest_neighbours_w_6 = compute_nearest_neighbors(query_word_multisense, word_vectors_w_6, k)\n",
        "\n",
        "\n",
        "print(f\"Top {k} nearest neighbors of '{query_word_multisense}' for context window size, w=1:\")\n",
        "for neighbor, similarity in compute_nearest_neighbours_w_1:\n",
        "    print(f\"{neighbor}: {similarity}\")\n",
        "\n",
        "print(f\"\\nTop {k} nearest neighbors of '{query_word_multisense}' for context window size, w=6:\")\n",
        "for neighbor, similarity in compute_nearest_neighbours_w_6:\n",
        "    print(f\"{neighbor}: {similarity}\")"
      ],
      "metadata": {
        "colab": {
          "base_uri": "https://localhost:8080/",
          "height": 0
        },
        "id": "EPmBqwi_oZtD",
        "outputId": "7c788e20-860b-45af-8456-1bedc97f2a8d"
      },
      "execution_count": 15,
      "outputs": [
        {
          "output_type": "stream",
          "name": "stdout",
          "text": [
            "Top 10 nearest neighbors of 'frame' for context window size, w=1:\n",
            "brick: 0.15457089054360534\n",
            "frames: 0.14746364634916354\n",
            "two-story: 0.14117492842615603\n",
            "rear: 0.12277116159534333\n",
            "structure: 0.12162546943450016\n",
            "panels: 0.11918997258576204\n",
            "framed: 0.11714480772844232\n",
            "storey: 0.11317850589061738\n",
            "wooden: 0.11108923803459136\n",
            "wheels: 0.10900990053710542\n",
            "\n",
            "Top 10 nearest neighbors of 'frame' for context window size, w=6:\n",
            "rear: 0.22554454917799965\n",
            "steel: 0.20892461349206842\n",
            "roof: 0.20887095236614528\n",
            "structure: 0.20862870378096274\n",
            "brick: 0.20207798951034503\n",
            "wooden: 0.20140654899256935\n",
            "frames: 0.1919240972253489\n",
            "metal: 0.1893694050338087\n",
            "wood: 0.18543013225913135\n",
            "wheels: 0.18303998605072644\n"
          ]
        }
      ]
    },
    {
      "cell_type": "markdown",
      "source": [
        "7) Light"
      ],
      "metadata": {
        "id": "lUPXnGOppTaH"
      }
    },
    {
      "cell_type": "code",
      "source": [
        "# Getting nearest words for \"light\".\n",
        "\n",
        "query_word_multisense = \"light\"\n",
        "k = 10\n",
        "\n",
        "compute_nearest_neighbours_w_1 = compute_nearest_neighbors(query_word_multisense, word_vectors_w_1, k)\n",
        "compute_nearest_neighbours_w_6 = compute_nearest_neighbors(query_word_multisense, word_vectors_w_6, k)\n",
        "\n",
        "\n",
        "print(f\"Top {k} nearest neighbors of '{query_word_multisense}' for context window size, w=1:\")\n",
        "for neighbor, similarity in compute_nearest_neighbours_w_1:\n",
        "    print(f\"{neighbor}: {similarity}\")\n",
        "\n",
        "print(f\"\\nTop {k} nearest neighbors of '{query_word_multisense}' for context window size, w=6:\")\n",
        "for neighbor, similarity in compute_nearest_neighbours_w_6:\n",
        "    print(f\"{neighbor}: {similarity}\")"
      ],
      "metadata": {
        "colab": {
          "base_uri": "https://localhost:8080/",
          "height": 0
        },
        "id": "Rw6pmOi4oarS",
        "outputId": "606ef827-3023-4e9c-9ae0-df7ba248451d"
      },
      "execution_count": 16,
      "outputs": [
        {
          "output_type": "stream",
          "name": "stdout",
          "text": [
            "Top 10 nearest neighbors of 'light' for context window size, w=1:\n",
            "heavy: 0.19632297388919315\n",
            "lights: 0.15116724909899712\n",
            "water: 0.14343244331974714\n",
            "dark: 0.14137663303032313\n",
            "fire: 0.14131076842143678\n",
            "regiment: 0.1302571375426832\n",
            "division: 0.12795276130445996\n",
            "force: 0.1245318371918821\n",
            "large: 0.12401130369633516\n",
            "pale: 0.12089518664340862\n",
            "\n",
            "Top 10 nearest neighbors of 'light' for context window size, w=6:\n",
            "using: 0.27374906602272125\n",
            "surface: 0.261611829575851\n",
            "usually: 0.26087120674735376\n",
            "water: 0.25720174812437097\n",
            "body: 0.2540652997326469\n",
            "heavy: 0.2505553876318451\n",
            "red: 0.2487953214375574\n",
            "dark: 0.2461297285420266\n",
            "color: 0.24419022508872737\n",
            "energy: 0.24286282142914825\n"
          ]
        }
      ]
    },
    {
      "cell_type": "markdown",
      "source": [
        "8) Well"
      ],
      "metadata": {
        "id": "AB1HAvPjpV9d"
      }
    },
    {
      "cell_type": "code",
      "source": [
        "# Getting nearest words for \"well\".\n",
        "\n",
        "query_word_multisense = \"well\"\n",
        "k = 10\n",
        "\n",
        "compute_nearest_neighbours_w_1 = compute_nearest_neighbors(query_word_multisense, word_vectors_w_1, k)\n",
        "compute_nearest_neighbours_w_6 = compute_nearest_neighbors(query_word_multisense, word_vectors_w_6, k)\n",
        "\n",
        "\n",
        "print(f\"Top {k} nearest neighbors of '{query_word_multisense}' for context window size, w=1:\")\n",
        "for neighbor, similarity in compute_nearest_neighbours_w_1:\n",
        "    print(f\"{neighbor}: {similarity}\")\n",
        "\n",
        "print(f\"\\nTop {k} nearest neighbors of '{query_word_multisense}' for context window size, w=6:\")\n",
        "for neighbor, similarity in compute_nearest_neighbours_w_6:\n",
        "    print(f\"{neighbor}: {similarity}\")"
      ],
      "metadata": {
        "colab": {
          "base_uri": "https://localhost:8080/",
          "height": 0
        },
        "id": "_AKdxZdsobev",
        "outputId": "7212e7ff-fca3-4ca4-f86f-1c0cc56b2666"
      },
      "execution_count": 17,
      "outputs": [
        {
          "output_type": "stream",
          "name": "stdout",
          "text": [
            "Top 10 nearest neighbors of 'well' for context window size, w=1:\n",
            "poorly: 0.2348448879449925\n",
            "be: 0.2015503182854486\n",
            "however: 0.19133210791846314\n",
            "there: 0.19125103524239537\n",
            "been: 0.1912043102468751\n",
            "united: 0.18474151001388656\n",
            "preserved: 0.1820202523959068\n",
            "discussion: 0.17635219795999532\n",
            "debate: 0.17397506793210257\n",
            "list: 0.16759854977348515\n",
            "\n",
            "Top 10 nearest neighbors of 'well' for context window size, w=6:\n",
            "many: 0.3508470351371892\n",
            "such: 0.3505578300831992\n",
            "including: 0.3208532283601029\n",
            "like: 0.31716721899024447\n",
            "other: 0.30514221163954125\n",
            "most: 0.30193611186374536\n",
            "several: 0.2948282143811019\n",
            "some: 0.29313903589458595\n",
            "these: 0.28612724149577135\n",
            "both: 0.2831391200111555\n"
          ]
        }
      ]
    }
  ]
}